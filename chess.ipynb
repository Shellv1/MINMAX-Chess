{
  "nbformat": 4,
  "nbformat_minor": 0,
  "metadata": {
    "colab": {
      "provenance": []
    },
    "kernelspec": {
      "name": "python3",
      "display_name": "Python 3"
    },
    "language_info": {
      "name": "python"
    }
  },
  "cells": [
    {
      "cell_type": "markdown",
      "source": [
        "# Setup"
      ],
      "metadata": {
        "id": "MvWXU-Skwd33"
      }
    },
    {
      "cell_type": "markdown",
      "source": [
        "## Imports"
      ],
      "metadata": {
        "id": "nr70XYfVwpCR"
      }
    },
    {
      "cell_type": "code",
      "source": [
        "import os\n",
        "import random\n",
        "import string\n",
        "import sys\n",
        "import time\n",
        "from IPython.display import clear_output"
      ],
      "metadata": {
        "id": "lqkI9ptmwsU-"
      },
      "execution_count": null,
      "outputs": []
    },
    {
      "cell_type": "markdown",
      "source": [
        "## Classes"
      ],
      "metadata": {
        "id": "PUA2hocXwXfA"
      }
    },
    {
      "cell_type": "code",
      "execution_count": null,
      "metadata": {
        "id": "DCcWpqOcwPbd"
      },
      "outputs": [],
      "source": [
        "# Class for origin and destination parameters\n",
        "class cCoord():\n",
        "    def __init__(self, y, x):\n",
        "        self.y = y\n",
        "        self.x = x"
      ]
    },
    {
      "cell_type": "markdown",
      "source": [
        "# Chessboard Management"
      ],
      "metadata": {
        "id": "EeTe3yPvxPGl"
      }
    },
    {
      "cell_type": "code",
      "source": [
        "# FUNCTION: ChessBoardSetup()\n",
        "# PURPOSE:\n",
        "#   Creates a new chessboard\n",
        "# RETURNS:\n",
        "#   New chessboard\n",
        "\n",
        "def ChessBoardSetup():\n",
        "    \n",
        "    chessBoard = [['r', 't', 'b', 'q', 'k', 'b', 't', 'r'],\n",
        "                  ['p', 'p', 'p', 'p', 'p', 'p', 'p', 'p'],\n",
        "                  ['.', '.', '.', '.', '.', '.', '.', '.'],\n",
        "                  ['.', '.', '.', '.', '.', '.', '.', '.'],\n",
        "                  ['.', '.', '.', '.', '.', '.', '.', '.'],\n",
        "                  ['.', '.', '.', '.', '.', '.', '.', '.'],\n",
        "                  ['P', 'P', 'P', 'P', 'P', 'P', 'P', 'P'],\n",
        "                  ['R', 'T', 'B', 'Q', 'K', 'B', 'T', 'R']]\n",
        "\n",
        "    return chessBoard\n",
        "\n",
        "def CopyBoard(chessBoard):\n",
        "\n",
        "    newBoard = ChessBoardSetup();\n",
        "\n",
        "    for i in range(8):\n",
        "        for j in range(8):\n",
        "            newBoard[i][j] = chessBoard[i][j]\n",
        "\n",
        "    return newBoard;\n",
        "\n",
        "# FUNCTION: DrawBoard(1)\n",
        "#   1:      Chessboard\n",
        "# PURPOSE:\n",
        "#   Outputs the current board layout\n",
        "\n",
        "def DrawBoard(chessBoard):\n",
        "\n",
        "    for i in range(8):\n",
        "        for j in range(8):\n",
        "            print(chessBoard[i][j], end=' ')\n",
        "        print()\n",
        "    print()\n",
        "\n",
        "# FUNCTION: IsEnemy(1, 2, 3)\n",
        "#   1:      Chessboard\n",
        "#   2:      Coordinates of origin\n",
        "#   3:      Coordinates of destination\n",
        "# PURPOSE:\n",
        "#   Move a piece from the origin to the destination and promote pawns\n",
        "# RETURNS:\n",
        "#   Updated chessboard\n",
        "\n",
        "def MovePiece(chessBoard, origin, dest):\n",
        "    if (chessBoard[origin.y][origin.x] == 'p' and dest.y == 7):\n",
        "        chessBoard[origin.y][origin.x] = 'q'\n",
        "    elif (chessBoard[origin.y][origin.x] == 'P' and dest.y == 0):\n",
        "        chessBoard[origin.y][origin.x] = 'Q'\n",
        "\n",
        "    chessBoard[dest.y][dest.x] = chessBoard[origin.y][origin.x]\n",
        "    chessBoard[origin.y][origin.x] = '.'\n",
        "\n",
        "    return chessBoard\n",
        "\n",
        "# FUNCTION: GetPiecesWithLegalMoves(1, 2)\n",
        "#   1:      Chessboard\n",
        "#   2:      Team of current player\n",
        "# PURPOSE:\n",
        "#   Finds every piece that has a valid move on the chessBoard\n",
        "# RETURNS:\n",
        "#   List of pieces that are allowed to move\n",
        "\n",
        "def GetPiecesWithLegalMoves(chessBoard, sTeam):\n",
        "\n",
        "    lLegalPieces = []\n",
        "    \n",
        "    for i in range(8):\n",
        "        for j in range(8):\n",
        "            if (\n",
        "                (chessBoard[i][j] != '.') and\n",
        "                (not IsEnemy(sTeam, chessBoard[i][j]))\n",
        "            ):\n",
        "                if (len(GetListOfLegalMoves(chessBoard, cCoord(i,j))) > 0):\n",
        "                    lLegalPieces.append(cCoord(i,j))\n",
        "                \n",
        "    return lLegalPieces\n",
        "\n",
        "# FUNCTION: GetListOfLegalMoves(1, 2)\n",
        "#   1:      Chessboard\n",
        "#   2:      Coordinates of origin\n",
        "# PURPOSE:\n",
        "#   Finds every place that a piece is allowed to move on the chessBoard\n",
        "# RETURNS:\n",
        "#   List of coordinates a piece is allowed to move\n",
        "\n",
        "def GetListOfLegalMoves(chessBoard, origin):\n",
        "\n",
        "    lLegalMoves = []\n",
        "\n",
        "    for i in range(8):\n",
        "        for j in range(8):\n",
        "            if (\n",
        "                IsMoveLegal(CopyBoard(chessBoard), origin, cCoord(i,j)) and\n",
        "                IsClearPath(CopyBoard(chessBoard), origin, cCoord(i,j)) and\n",
        "                (not DetectCheck(CopyBoard(chessBoard), origin, cCoord(i,j)))\n",
        "            ):\n",
        "                lLegalMoves.append(cCoord(i,j))\n",
        "            \n",
        "    return lLegalMoves"
      ],
      "metadata": {
        "id": "yRLB309RxSn5"
      },
      "execution_count": null,
      "outputs": []
    },
    {
      "cell_type": "markdown",
      "source": [
        "# Booleans"
      ],
      "metadata": {
        "id": "kwtqcLHaw_hF"
      }
    },
    {
      "cell_type": "markdown",
      "source": [
        "## Validation"
      ],
      "metadata": {
        "id": "52b__q0RxlPD"
      }
    },
    {
      "cell_type": "code",
      "source": [
        "# FUNCTION: IsWhite(1)\n",
        "#   1:      Current piece\n",
        "# PURPOSE:\n",
        "#   Check if the current piece is of the white team ('Z')\n",
        "# RETURNS:\n",
        "#   True:   Current piece is white ('Z')\n",
        "#   False:  Current piece is black ('z')\n",
        "\n",
        "def IsWhite(sATK):\n",
        "    return True if (sATK <= 'Z' and sATK >= 'A') else False\n",
        "\n",
        "# FUNCTION: IsEnemy(1, 2)\n",
        "#   1:      Attacking piece\n",
        "#   2:      Defending piece\n",
        "# PURPOSE:\n",
        "#   Check if attacking and defending pieces are on different teams\n",
        "# RETURNS:\n",
        "#   True:   Pieces are on different teams\n",
        "#   False:  Pieces are the same team\n",
        "\n",
        "def IsEnemy(sATK, sDEF):\n",
        "    return True if (IsWhite(sATK) != IsWhite(sDEF)) else False\n",
        "\n",
        "# FUNCTION: EnemyOf(1)\n",
        "#   1:      Current piece\n",
        "# PURPOSE:\n",
        "#   Return the enemy team color\n",
        "# RETURNS:\n",
        "#   Color of enemy team\n",
        "\n",
        "def EnemyOf(sATK):\n",
        "    return 'z' if (sATK <= 'Z' and sATK >= 'A') else 'Z'\n",
        "\n",
        "# FUNCTION: IsDiagonal(1, 2)\n",
        "#   2:      Coordinates of origin\n",
        "#   4:      Coordinates of destination\n",
        "# PURPOSE:\n",
        "#   Check if coordinates are diagonal\n",
        "# RETURNS:\n",
        "#   True:   Coordinates are diagonal\n",
        "#   False:  Coordinates are not diagonal\n",
        "\n",
        "def IsDiagonal(origin, dest):\n",
        "    return True if (abs(origin.x - dest.x) == abs(origin.y - dest.y)) else False\n",
        "\n",
        "# FUNCTION: [RECURSIVE] IsClearPath(1, 2, 3)\n",
        "#   1:      COPY of Chessboard\n",
        "#   2:      Coordinates of origin\n",
        "#   3:      Coordinates of destination\n",
        "# PURPOSE:\n",
        "#   Checks if the path between the origin and destination is clear\n",
        "# RETURNS:\n",
        "#   True:   Path is clear\n",
        "#   False:  Path is not clear\n",
        "\n",
        "def IsClearPath(chessBoard, origin, dest):\n",
        "\n",
        "    if (chessBoard[origin.y][origin.x].lower() == 't'): return True\n",
        "\n",
        "    # if to-square is in the +ve vertical direction from from-square\n",
        "    if ((origin.x == dest.x) and (origin.y < dest.y)):\n",
        "        nOrigin = cCoord(origin.y + 1, origin.x)\n",
        "    # else if to-square is in the -ve vertical direction from from-square\n",
        "    elif ((origin.x == dest.x) and (origin.y > dest.y)):\n",
        "        nOrigin = cCoord(origin.y - 1, origin.x)\n",
        "    # else if to-square is in the +ve horizontal direction from from-square\n",
        "    elif ((origin.x < dest.x) and (origin.y == dest.y)):\n",
        "        nOrigin = cCoord(origin.y, origin.x + 1)\n",
        "    # else if to-square is in the -ve horizontal direction from from-square\n",
        "    elif ((origin.x > dest.x) and (origin.y == dest.y)):\n",
        "        nOrigin = cCoord(origin.y, origin.x - 1)\n",
        "    # else if to-square is in the diagonal direction from from-square\n",
        "    elif (IsDiagonal(origin, dest)):\n",
        "        if ((origin.x < dest.x) and (origin.y < dest.y)):\n",
        "            nOrigin = cCoord(origin.y + 1, origin.x + 1)\n",
        "        elif ((origin.x < dest.x) and (origin.y > dest.y)):\n",
        "            nOrigin = cCoord(origin.y - 1, origin.x + 1)\n",
        "        elif ((origin.x > dest.x) and (origin.y < dest.y)):\n",
        "            nOrigin = cCoord(origin.y + 1, origin.x - 1)\n",
        "        elif ((origin.x > dest.x) and (origin.y > dest.y)):\n",
        "            nOrigin = cCoord(origin.y - 1, origin.x - 1)\n",
        "    else: return False\n",
        "\n",
        "    # if destination reached\n",
        "    if (nOrigin.x == dest.x and nOrigin.y == dest.y): return True\n",
        "\n",
        "    return False if (chessBoard[nOrigin.y][nOrigin.x] != '.') else IsClearPath(chessBoard, nOrigin, dest)\n",
        "\n",
        "# FUNCTION: DetectCheck(1, 2, 3)\n",
        "#   1:      Chessboard\n",
        "#   2:      Coordinates of origin\n",
        "#   3:      Coordinates of destination\n",
        "# PURPOSE:\n",
        "#   Checks if a hypothetical move puts the current player into check\n",
        "# RETURNS:\n",
        "#   True:   King is in check\n",
        "#   False:  King is not in check\n",
        "\n",
        "def DetectCheck(chessBoard, origin, dest):\n",
        "\n",
        "    newBoard = MovePiece(CopyBoard(chessBoard), origin, dest)\n",
        "\n",
        "    return True if (IsInCheck(newBoard, newBoard[dest.y][dest.x])) else False\n",
        "\n",
        "# FUNCTION: IsInCheck(1, 2)\n",
        "#   1:      Chessboard\n",
        "#   2:      Team of current player\n",
        "# PURPOSE:\n",
        "#   Checks if the king can be taken by an enemy piece\n",
        "# RETURNS:\n",
        "#   True:   King is in check\n",
        "#   False:  King is not in check\n",
        "\n",
        "def IsInCheck(chessBoard, sTeam):\n",
        "\n",
        "    for i in range(8):\n",
        "        for j in range(8):\n",
        "            if (\n",
        "                chessBoard[i][j].lower() == 'k' and\n",
        "                (not IsEnemy(sTeam, chessBoard[i][j]))\n",
        "            ): kLoc = cCoord(i,j)\n",
        "    \n",
        "    for i in range(8):\n",
        "        for j in range(8):\n",
        "            if (\n",
        "                chessBoard[i][j] != '.' and\n",
        "                IsEnemy(chessBoard[kLoc.y][kLoc.x], chessBoard[i][j])\n",
        "            ):\n",
        "                if (\n",
        "                    IsMoveLegal(chessBoard, cCoord(i,j), kLoc) and\n",
        "                    IsClearPath(CopyBoard(chessBoard), cCoord(i,j), kLoc)\n",
        "                ): return True\n",
        "\n",
        "    return False\n",
        "\n",
        "# FUNCTION: IsCheckmate(1, 2)\n",
        "#   1:      Chessboard\n",
        "#   2:      Team of current player\n",
        "# PURPOSE:\n",
        "#   Checks if the current player is in checkmate\n",
        "# RETURNS:\n",
        "#   True:   Checkmate\n",
        "#   False:  Not checkmate\n",
        "\n",
        "def IsCheckmate(chessBoard, sTeam):\n",
        "\n",
        "    return True if (\n",
        "        (len(GetPiecesWithLegalMoves(chessBoard, sTeam)) == 0) and\n",
        "        (IsInCheck(chessBoard, sTeam))\n",
        "    ) else False"
      ],
      "metadata": {
        "id": "baMP5eCKxdsh"
      },
      "execution_count": null,
      "outputs": []
    },
    {
      "cell_type": "markdown",
      "source": [
        "## Rules"
      ],
      "metadata": {
        "id": "LcLb2Dt1xqdR"
      }
    },
    {
      "cell_type": "code",
      "source": [
        "# FUNCTION: IsMoveLegal(1, 2, 3)\n",
        "#   1:      Chessboard\n",
        "#   2:      Coordinates of origin\n",
        "#   3:      Coordinates of destination\n",
        "# PURPOSE:\n",
        "#   Checks if a move is valid\n",
        "# RETURNS:\n",
        "#   True:   Move is valid\n",
        "#   False:  Move is invalid\n",
        "\n",
        "def IsMoveLegal(chessBoard, origin, dest):\n",
        "\n",
        "    if ((origin.x == dest.x) and (origin.y == dest.y)): return False\n",
        "\n",
        "    piece = chessBoard[origin.y][origin.x].lower()\n",
        "    sATK = chessBoard[origin.y][origin.x]\n",
        "    sDEF = chessBoard[dest.y][dest.x]\n",
        "\n",
        "    colDiff = origin.x - dest.x\n",
        "    rowDiff = origin.y - dest.y\n",
        "    \n",
        "    # PAWN\n",
        "    if (piece == 'p'):\n",
        "\n",
        "        sTeam = 'Z' if (IsWhite(sATK)) else 'z'\n",
        "\n",
        "        if (sTeam == 'z'):\n",
        "\n",
        "            if (\n",
        "                (sDEF == '.') and\n",
        "                (origin.x == dest.x)\n",
        "            ):\n",
        "                if (\n",
        "                    ((origin.y - dest.y) == -1) or\n",
        "                    ((origin.y == 1) and (dest.y == 3))\n",
        "                ): return True\n",
        "\n",
        "            elif (\n",
        "                ((rowDiff == -1) and (abs(colDiff) == 1)) and\n",
        "                (sDEF != '.' and IsEnemy(sATK, sDEF))\n",
        "            ): return True\n",
        "\n",
        "        elif (sTeam == 'Z'):\n",
        "\n",
        "            if (\n",
        "                (sDEF == '.') and\n",
        "                (origin.x == dest.x)\n",
        "            ):\n",
        "                if (\n",
        "                    ((origin.y - dest.y) == 1) or\n",
        "                    ((origin.y == 6) and (dest.y == 4))\n",
        "                ): return True\n",
        "\n",
        "            elif (\n",
        "                ((rowDiff == 1) and (abs(colDiff) == 1)) and\n",
        "                (sDEF != '.' and IsEnemy(sATK, sDEF))\n",
        "            ): return True\n",
        "\n",
        "    elif ((sDEF == '.') or (IsEnemy(sATK, sDEF))):\n",
        "\n",
        "        # ROOK\n",
        "        if (piece == 'r'):\n",
        "            if ((origin.x == dest.x) or (origin.y == dest.y)): return True\n",
        "\n",
        "        # BISHOP\n",
        "        elif (piece == 'b'):\n",
        "            if (IsDiagonal(origin, dest)): return True\n",
        "\n",
        "        # QUEEN\n",
        "        elif (piece == 'q'):\n",
        "            if (\n",
        "                origin.x == dest.x or\n",
        "                origin.y == dest.y or\n",
        "                IsDiagonal(origin, dest)\n",
        "            ): return True\n",
        "\n",
        "        # KNIGHT\n",
        "        elif (piece == 't'):\n",
        "\n",
        "            if (\n",
        "                (colDiff == 1 and rowDiff == -2) or\n",
        "                (colDiff == 2 and rowDiff == -1) or\n",
        "                (colDiff == 2 and rowDiff == 1) or\n",
        "                (colDiff == 1 and rowDiff == 2) or\n",
        "                (colDiff == -1 and rowDiff == -2) or\n",
        "                (colDiff == -2 and rowDiff == -1) or\n",
        "                (colDiff == -2 and rowDiff == 1) or\n",
        "                (colDiff == -1 and rowDiff == 2)\n",
        "            ): return True\n",
        "\n",
        "        # KING\n",
        "        elif (piece == 'k'):\n",
        "\n",
        "            if (\n",
        "                (abs(colDiff) == 1 and abs(rowDiff) == 0) or \n",
        "                (abs(colDiff) == 0 and abs(rowDiff) == 1) or \n",
        "                (abs(colDiff) == 1 and abs(rowDiff) == 1)\n",
        "            ): return True\n",
        "\n",
        "    return False"
      ],
      "metadata": {
        "id": "ejdo0aKXxqKf"
      },
      "execution_count": null,
      "outputs": []
    },
    {
      "cell_type": "markdown",
      "source": [
        "# Artificial Intelligence"
      ],
      "metadata": {
        "id": "X7O3Hhj1xCax"
      }
    },
    {
      "cell_type": "markdown",
      "source": [
        "## Random AI"
      ],
      "metadata": {
        "id": "CEVvT0dJxthr"
      }
    },
    {
      "cell_type": "code",
      "source": [
        "# FUNCTION: GetRandomMove(1, 2)\n",
        "#   1:      Chessboard\n",
        "#   2:      Team of current player\n",
        "# PURPOSE:\n",
        "#   Creates a random move for a random piece\n",
        "# RETURNS:\n",
        "#   Coordinates of random origin and destination\n",
        "\n",
        "def GetRandomMove(chessBoard, sTeam):\n",
        "\n",
        "    piece = random.choice(GetPiecesWithLegalMoves(chessBoard, sTeam))\n",
        "    \n",
        "    return piece, random.choice(GetListOfLegalMoves(chessBoard, piece))"
      ],
      "metadata": {
        "id": "bJUw0bpbxwOg"
      },
      "execution_count": null,
      "outputs": []
    },
    {
      "cell_type": "markdown",
      "source": [
        "## MINMAX AI"
      ],
      "metadata": {
        "id": "TkzWtEk0xwiW"
      }
    },
    {
      "cell_type": "code",
      "source": [
        "# FUNCTION: evl(1)\n",
        "#   1:      Chessboard\n",
        "# PURPOSE:\n",
        "#   Calculates the score for a specified team\n",
        "# RETURNS:\n",
        "#   Score of team\n",
        "\n",
        "def evl(chessBoard):\n",
        "\n",
        "    score = 0\n",
        "\n",
        "    for i in range(8):\n",
        "        for j in range(8):\n",
        "            if (chessBoard[i][j] != '.'):\n",
        "                match chessBoard[i][j]:\n",
        "                    case 'p': score -= 10 * (i+1)\n",
        "                    case 'P': score += 10 * (9 - (i+1))\n",
        "                    case 'r': score -= 50\n",
        "                    case 'R': score += 50\n",
        "                    case 't': score -= 10\n",
        "                    case 'T': score += 10\n",
        "                    case 'b': score -= 30\n",
        "                    case 'B': score += 30\n",
        "                    case 'q': score -= 75\n",
        "                    case 'Q': score += 75\n",
        "                    case 'k': score -= 0\n",
        "                    case 'K': score += 0\n",
        "                    \n",
        "    return score\n",
        "\n",
        "# FUNCTION: GetMinMaxMove(1, 2)\n",
        "#   1:      Chessboard\n",
        "#   2:      Team of current player\n",
        "# PURPOSE:\n",
        "#   Find the move with the MAX score for the MINMAX AI\n",
        "# RETURNS:\n",
        "#   Move with the highest MAX score\n",
        "\n",
        "def GetMinMaxMove(chessBoard, sTeam):\n",
        "\n",
        "    bestMIN = 1000\n",
        "    bestMAX = -1000\n",
        "\n",
        "    bestMAXs = []\n",
        "\n",
        "    # MAX Player\n",
        "    pieces = GetPiecesWithLegalMoves(chessBoard, sTeam)\n",
        "\n",
        "    for origin in pieces:\n",
        "\n",
        "        destinations = GetListOfLegalMoves(chessBoard, origin)\n",
        "\n",
        "        for dest in destinations:\n",
        "\n",
        "            board2 = MovePiece(CopyBoard(chessBoard), origin, dest)\n",
        "\n",
        "            # MIN Player\n",
        "            enemyPieces = GetPiecesWithLegalMoves(board2, EnemyOf(sTeam))\n",
        "\n",
        "            for enemyOrigin in enemyPieces:\n",
        "\n",
        "                enemyDestinations = GetListOfLegalMoves(board2, enemyOrigin)\n",
        "\n",
        "                for enemyDest in enemyDestinations:\n",
        "\n",
        "                    board3 = MovePiece(CopyBoard(board2), enemyOrigin, enemyDest)\n",
        "\n",
        "                    res = evl(board3)\n",
        "\n",
        "                    if (res < bestMIN):\n",
        "                        bestMIN = res\n",
        "\n",
        "                    if (res < bestMAX): break\n",
        "\n",
        "                    \n",
        "            # MIN Player\n",
        "\n",
        "            if (bestMAX < bestMIN):\n",
        "                bestMAX = bestMIN\n",
        "                bestMAXs = []\n",
        "                bestMAXs.append([origin, dest])\n",
        "\n",
        "            if (bestMAX == bestMIN):\n",
        "                bestMAXs.append([origin, dest])\n",
        "\n",
        "    if (len(bestMAXs) > 1):\n",
        "        return random.choice(bestMAXs)"
      ],
      "metadata": {
        "id": "EvqfY6b9xze1"
      },
      "execution_count": null,
      "outputs": []
    },
    {
      "cell_type": "markdown",
      "source": [
        "# Main Driver"
      ],
      "metadata": {
        "id": "OIjRBqPdxGTx"
      }
    },
    {
      "cell_type": "markdown",
      "source": [
        "## Testing"
      ],
      "metadata": {
        "id": "hGWMrxNEtZXh"
      }
    },
    {
      "cell_type": "markdown",
      "source": [
        "## Main"
      ],
      "metadata": {
        "id": "1fUaNCNs7maq"
      }
    },
    {
      "cell_type": "code",
      "source": [
        "chessBoard = ChessBoardSetup()\n",
        "\n",
        "sTeam = 'Z'\n",
        "turn = 0\n",
        "N = 500\n",
        "\n",
        "while ((not IsCheckmate(chessBoard, sTeam)) and (turn < N)):\n",
        "    clear_output()\n",
        "\n",
        "    move = GetMinMaxMove(chessBoard, sTeam) if (sTeam == 'Z') else GetRandomMove(chessBoard, sTeam)\n",
        "\n",
        "    MovePiece(chessBoard, cCoord(move[0].y, move[0].x), cCoord(move[1].y, move[1].x))\n",
        "\n",
        "    DrawBoard(chessBoard)\n",
        "    turn+=1\n",
        "    print(\"Turn:\", turn)\n",
        "    time.sleep(0.5)\n",
        "\n",
        "    sTeam = 'z' if (sTeam == 'Z') else 'Z'\n",
        "\n",
        "if (IsCheckmate(chessBoard, 'z')):\n",
        "    print(\"White wins!\")\n",
        "elif (IsCheckmate(chessBoard, 'Z')):\n",
        "    print(\"Black wins!\")\n",
        "else:\n",
        "    print(\"Stalemate\", end='')\n",
        "\n",
        "    if (evl(chessBoard) > 0):\n",
        "        print(\": White Dominating\")\n",
        "    elif (evl(chessBoard) < 0):\n",
        "        print(\": Black Dominating\")"
      ],
      "metadata": {
        "colab": {
          "base_uri": "https://localhost:8080/"
        },
        "id": "0YHnML3Ux8X6",
        "outputId": "169c4819-c93a-42b1-d147-62961d9d6647"
      },
      "execution_count": null,
      "outputs": [
        {
          "output_type": "stream",
          "name": "stdout",
          "text": [
            ". . . . Q . . . \n",
            ". . . . Q . k . \n",
            ". . . . . . . . \n",
            ". . . . . . . . \n",
            ". . . . . . . . \n",
            ". . . . . . . p \n",
            ". . . Q . . . P \n",
            ". . B . . K T R \n",
            "\n",
            "Turn: 169\n",
            "White wins!\n"
          ]
        }
      ]
    }
  ]
}
